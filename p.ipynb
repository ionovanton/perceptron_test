{
 "cells": [
  {
   "cell_type": "code",
   "execution_count": 12,
   "id": "89956ba4",
   "metadata": {},
   "outputs": [],
   "source": [
    "import numpy as np\n",
    "import pandas as pd\n",
    "import matplotlib.pyplot as plt\n",
    "from IPython.display import Image\n",
    "from scipy import special"
   ]
  },
  {
   "cell_type": "code",
   "execution_count": 13,
   "id": "f228e120",
   "metadata": {},
   "outputs": [],
   "source": [
    "data_test = np.array(pd.read_csv('./emnist-letters-test.csv'), dtype='float32')\n",
    "data_train = np.array(pd.read_csv('./emnist-letters-train.csv'), dtype='float32')"
   ]
  },
  {
   "cell_type": "code",
   "execution_count": 14,
   "id": "9b0ee56b",
   "metadata": {},
   "outputs": [],
   "source": [
    "def vectorized_answer(i):\n",
    "    v = np.zeros( (26, 1) )\n",
    "    v[i - 1] = 1\n",
    "    return v\n",
    "\n",
    "def tidy_data(data):\n",
    "    data_tidy = [(np.reshape(x[1:], (784, 1)), vectorized_answer(int(x[0]))) for x in data]\n",
    "    return data_tidy\n",
    "\n",
    "data_train_list = tidy_data(data_train)\n",
    "\n",
    "np.random.shuffle(data_test) # скорее всего, это лишнее\n",
    "data_test_list = [(np.reshape(x[1:], (784, 1)), int(x[0]))for x in data_test]"
   ]
  },
  {
   "cell_type": "code",
   "execution_count": 15,
   "id": "b74fd8a8",
   "metadata": {},
   "outputs": [
    {
     "name": "stdout",
     "output_type": "stream",
     "text": [
      "L\n"
     ]
    },
    {
     "data": {
      "image/png": "[encoded data removed]",
      "text/plain": [
       "<Figure size 432x288 with 1 Axes>"
      ]
     },
     "metadata": {
      "needs_background": "light"
     },
     "output_type": "display_data"
    }
   ],
   "source": [
    "x, y = data_test_list[0]\n",
    "plt.imshow(np.reshape(x, (28, 28)).T)\n",
    "print(chr(y + 64))"
   ]
  },
  {
   "cell_type": "code",
   "execution_count": 16,
   "id": "f370724c",
   "metadata": {},
   "outputs": [
    {
     "data": {
      "text/plain": [
       "<matplotlib.image.AxesImage at 0x7f95997835b0>"
      ]
     },
     "execution_count": 16,
     "metadata": {},
     "output_type": "execute_result"
    },
    {
     "data": {
      "image/png": "[encoded data removed]",
      "text/plain": [
       "<Figure size 432x288 with 1 Axes>"
      ]
     },
     "metadata": {
      "needs_background": "light"
     },
     "output_type": "display_data"
    }
   ],
   "source": [
    "sample = data_train_list[0]\n",
    "plt.imshow(np.reshape(sample[0], (28, 28)).T)"
   ]
  },
  {
   "cell_type": "code",
   "execution_count": 17,
   "id": "6fcb32d0",
   "metadata": {},
   "outputs": [],
   "source": [
    "# def sigmoid(x):\n",
    "#     return 1.0 / (1.0 + np.exp(-x))\n",
    "\n",
    "\"\"\"\n",
    "Аналог сигмоиды.\n",
    "\"\"\"\n",
    "def sigmoid(x):\n",
    "    return special.expit(x)\n",
    "\n",
    "def sigmoid_prime(x):\n",
    "    \"\"\"\n",
    "    Производная сигмоидной функции.\n",
    "    \"\"\"\n",
    "    a = sigmoid(x)\n",
    "    return a * (1 - a)"
   ]
  },
  {
   "cell_type": "code",
   "execution_count": 18,
   "id": "c33f90a9",
   "metadata": {},
   "outputs": [],
   "source": [
    "class QuadraticCost:\n",
    "    def fn(a, y):\n",
    "        return 0.5 * np.linalg.norm(a - y)**2\n",
    "    def delta(x, a, y):\n",
    "        return (a - y) * sigmoid_prime(x)"
   ]
  },
  {
   "cell_type": "code",
   "execution_count": 19,
   "id": "2cc3111b",
   "metadata": {},
   "outputs": [
    {
     "name": "stdout",
     "output_type": "stream",
     "text": [
      "epoch 794\n",
      "epoch 0\n"
     ]
    },
    {
     "ename": "KeyboardInterrupt",
     "evalue": "",
     "output_type": "error",
     "traceback": [
      "\u001b[0;31m---------------------------------------------------------------------------\u001b[0m",
      "\u001b[0;31mKeyboardInterrupt\u001b[0m                         Traceback (most recent call last)",
      "\u001b[1;32m/home/anton/Desktop/perceptron_test/p.ipynb Cell 8\u001b[0m in \u001b[0;36m<cell line: 81>\u001b[0;34m()\u001b[0m\n\u001b[1;32m     <a href='vscode-notebook-cell:/home/anton/Desktop/perceptron_test/p.ipynb#W6sZmlsZQ%3D%3D?line=78'>79</a>\u001b[0m regularization \u001b[39m=\u001b[39m \u001b[39m1.0\u001b[39m\n\u001b[1;32m     <a href='vscode-notebook-cell:/home/anton/Desktop/perceptron_test/p.ipynb#W6sZmlsZQ%3D%3D?line=79'>80</a>\u001b[0m net \u001b[39m=\u001b[39m Network()\n\u001b[0;32m---> <a href='vscode-notebook-cell:/home/anton/Desktop/perceptron_test/p.ipynb#W6sZmlsZQ%3D%3D?line=80'>81</a>\u001b[0m net\u001b[39m.\u001b[39;49mSGD(data_train_list, data_test_list, epochs, batch_size, learning_rate, regularization)\n",
      "\u001b[1;32m/home/anton/Desktop/perceptron_test/p.ipynb Cell 8\u001b[0m in \u001b[0;36mNetwork.SGD\u001b[0;34m(self, data_train_list, data_test_list, epochs, n_batch, lr, reg)\u001b[0m\n\u001b[1;32m     <a href='vscode-notebook-cell:/home/anton/Desktop/perceptron_test/p.ipynb#W6sZmlsZQ%3D%3D?line=19'>20</a>\u001b[0m \u001b[39mfor\u001b[39;00m batch \u001b[39min\u001b[39;00m batch_list:\n\u001b[1;32m     <a href='vscode-notebook-cell:/home/anton/Desktop/perceptron_test/p.ipynb#W6sZmlsZQ%3D%3D?line=20'>21</a>\u001b[0m     \u001b[39mself\u001b[39m\u001b[39m.\u001b[39mupdate_batch(batch, lr, reg, n_train, n_batch)\n\u001b[0;32m---> <a href='vscode-notebook-cell:/home/anton/Desktop/perceptron_test/p.ipynb#W6sZmlsZQ%3D%3D?line=21'>22</a>\u001b[0m \u001b[39mprint\u001b[39m(\u001b[39mf\u001b[39m\u001b[39m\"\u001b[39m\u001b[39mepoch \u001b[39m\u001b[39m{\u001b[39;00m\u001b[39mself\u001b[39m\u001b[39m.\u001b[39mevaluate(data_test_list)\u001b[39m}\u001b[39;00m\u001b[39m\"\u001b[39m)\n",
      "\u001b[1;32m/home/anton/Desktop/perceptron_test/p.ipynb Cell 8\u001b[0m in \u001b[0;36mNetwork.evaluate\u001b[0;34m(self, data_test_list)\u001b[0m\n\u001b[1;32m     <a href='vscode-notebook-cell:/home/anton/Desktop/perceptron_test/p.ipynb#W6sZmlsZQ%3D%3D?line=70'>71</a>\u001b[0m \u001b[39mdef\u001b[39;00m \u001b[39mevaluate\u001b[39m(\u001b[39mself\u001b[39m, data_test_list):\n\u001b[0;32m---> <a href='vscode-notebook-cell:/home/anton/Desktop/perceptron_test/p.ipynb#W6sZmlsZQ%3D%3D?line=71'>72</a>\u001b[0m     results \u001b[39m=\u001b[39m [(np\u001b[39m.\u001b[39margmax(\u001b[39mself\u001b[39m\u001b[39m.\u001b[39mfeed(x)), y) \u001b[39mfor\u001b[39;00m (x, y) \u001b[39min\u001b[39;00m data_test_list]\n\u001b[1;32m     <a href='vscode-notebook-cell:/home/anton/Desktop/perceptron_test/p.ipynb#W6sZmlsZQ%3D%3D?line=72'>73</a>\u001b[0m     \u001b[39mreturn\u001b[39;00m \u001b[39msum\u001b[39m(\u001b[39mint\u001b[39m(x \u001b[39m==\u001b[39m y) \u001b[39mfor\u001b[39;00m (x, y) \u001b[39min\u001b[39;00m results)\n",
      "\u001b[1;32m/home/anton/Desktop/perceptron_test/p.ipynb Cell 8\u001b[0m in \u001b[0;36m<listcomp>\u001b[0;34m(.0)\u001b[0m\n\u001b[1;32m     <a href='vscode-notebook-cell:/home/anton/Desktop/perceptron_test/p.ipynb#W6sZmlsZQ%3D%3D?line=70'>71</a>\u001b[0m \u001b[39mdef\u001b[39;00m \u001b[39mevaluate\u001b[39m(\u001b[39mself\u001b[39m, data_test_list):\n\u001b[0;32m---> <a href='vscode-notebook-cell:/home/anton/Desktop/perceptron_test/p.ipynb#W6sZmlsZQ%3D%3D?line=71'>72</a>\u001b[0m     results \u001b[39m=\u001b[39m [(np\u001b[39m.\u001b[39margmax(\u001b[39mself\u001b[39;49m\u001b[39m.\u001b[39;49mfeed(x)), y) \u001b[39mfor\u001b[39;00m (x, y) \u001b[39min\u001b[39;00m data_test_list]\n\u001b[1;32m     <a href='vscode-notebook-cell:/home/anton/Desktop/perceptron_test/p.ipynb#W6sZmlsZQ%3D%3D?line=72'>73</a>\u001b[0m     \u001b[39mreturn\u001b[39;00m \u001b[39msum\u001b[39m(\u001b[39mint\u001b[39m(x \u001b[39m==\u001b[39m y) \u001b[39mfor\u001b[39;00m (x, y) \u001b[39min\u001b[39;00m results)\n",
      "\u001b[1;32m/home/anton/Desktop/perceptron_test/p.ipynb Cell 8\u001b[0m in \u001b[0;36mNetwork.feed\u001b[0;34m(self, v)\u001b[0m\n\u001b[1;32m     <a href='vscode-notebook-cell:/home/anton/Desktop/perceptron_test/p.ipynb#W6sZmlsZQ%3D%3D?line=65'>66</a>\u001b[0m \u001b[39mdef\u001b[39;00m \u001b[39mfeed\u001b[39m(\u001b[39mself\u001b[39m, v):\n\u001b[1;32m     <a href='vscode-notebook-cell:/home/anton/Desktop/perceptron_test/p.ipynb#W6sZmlsZQ%3D%3D?line=66'>67</a>\u001b[0m     \u001b[39mfor\u001b[39;00m b, w \u001b[39min\u001b[39;00m \u001b[39mzip\u001b[39m(\u001b[39mself\u001b[39m\u001b[39m.\u001b[39mbiases, \u001b[39mself\u001b[39m\u001b[39m.\u001b[39mweights):\n\u001b[0;32m---> <a href='vscode-notebook-cell:/home/anton/Desktop/perceptron_test/p.ipynb#W6sZmlsZQ%3D%3D?line=67'>68</a>\u001b[0m         v \u001b[39m=\u001b[39m sigmoid(np\u001b[39m.\u001b[39;49mdot(w, v) \u001b[39m+\u001b[39;49m b)\n\u001b[1;32m     <a href='vscode-notebook-cell:/home/anton/Desktop/perceptron_test/p.ipynb#W6sZmlsZQ%3D%3D?line=68'>69</a>\u001b[0m     \u001b[39mreturn\u001b[39;00m v\n",
      "\u001b[1;32m/home/anton/Desktop/perceptron_test/p.ipynb Cell 8\u001b[0m in \u001b[0;36msigmoid\u001b[0;34m(x)\u001b[0m\n\u001b[1;32m      <a href='vscode-notebook-cell:/home/anton/Desktop/perceptron_test/p.ipynb#W6sZmlsZQ%3D%3D?line=6'>7</a>\u001b[0m \u001b[39mdef\u001b[39;00m \u001b[39msigmoid\u001b[39m(x):\n\u001b[0;32m----> <a href='vscode-notebook-cell:/home/anton/Desktop/perceptron_test/p.ipynb#W6sZmlsZQ%3D%3D?line=7'>8</a>\u001b[0m     \u001b[39mreturn\u001b[39;00m special\u001b[39m.\u001b[39;49mexpit(x)\n",
      "\u001b[0;31mKeyboardInterrupt\u001b[0m: "
     ]
    }
   ],
   "source": [
    "class Network:\n",
    "    def __init__(self, layer_sizes=[784,8,8,26]):\n",
    "        self.layer_count = len(layer_sizes)\n",
    "        self.layer_sizes = layer_sizes\n",
    "        self.cost_function = QuadraticCost\n",
    "        self.biases = [np.random.randn(y, 1) for y in self.layer_sizes[1:]]\n",
    "        self.weights = [np.random.randn(y, x) / np.sqrt(x)\n",
    "                        for x, y in zip(self.layer_sizes[:-1], self.layer_sizes[1:])]\n",
    "    \n",
    "    def SGD(self, data_train_list, data_test_list, epochs, n_batch, lr, reg):\n",
    "        n_train = len(data_train_list)\n",
    "        n_test = len(data_test_list)\n",
    "        for e in range(epochs):\n",
    "            \"\"\"\n",
    "            В одной epoch можно использовать только 80% всех данных.\n",
    "            \"\"\"\n",
    "            np.random.shuffle(data_train_list)\n",
    "            r = range(0, int(n_train * 0.8), n_batch)\n",
    "            batch_list = [ data_train_list[k:k+n_batch] for k in r ]\n",
    "            for batch in batch_list:\n",
    "                self.update_batch(batch, lr, reg, n_train, n_batch)\n",
    "            print(f\"epoch {self.evaluate(data_test_list)}\")\n",
    "\n",
    "    def update_batch(self, batch, lr, reg, n_train, n_batch):\n",
    "        \"\"\"\n",
    "        Будем возвращать градиент функции затрат в виде 'grad_b' и 'grad_w'.\n",
    "        \"\"\"\n",
    "        grad_b = [np.zeros(b.shape) for b in self.biases]\n",
    "        grad_w = [np.zeros(w.shape) for w in self.weights]\n",
    "        for x, y in batch:\n",
    "            delta_grad_b, delta_grad_w = self.forward_backward_propagation(x, y)\n",
    "            grad_b = [b + dgb for b, dgb in zip(grad_b, delta_grad_b)]\n",
    "            grad_w = [w + dgw for w, dgw in zip(grad_w, delta_grad_w)]\n",
    "        self.weights = [(1 - lr * (reg / n_train)) * w - (lr / n_batch) * gw for w, gw in zip(self.weights, grad_w)]\n",
    "        self.biases = [b - (lr / n_batch) * gb for b, gb in zip(self.biases, grad_b)]\n",
    "\n",
    "    def forward_backward_propagation(self, x, y):\n",
    "        \"\"\"\n",
    "        Шагаем вперед.\n",
    "        \"\"\"\n",
    "        grad_b = [np.zeros(b.shape) for b in self.biases]\n",
    "        grad_w = [np.zeros(w.shape) for w in self.weights]\n",
    "        activation = x\n",
    "        activations = [x]\n",
    "        z_array = []\n",
    "        for b, w in zip(self.biases, self.weights):\n",
    "            z = np.dot(w, activation) + b\n",
    "            z_array.append(z)\n",
    "            activation = sigmoid(z)\n",
    "            activations.append(activation)\n",
    "\n",
    "        \"\"\"\n",
    "        Шагаем назад.\n",
    "        \"\"\"\n",
    "        delta = self.cost_function.delta(z_array[-1], activations[-1], y)\n",
    "        grad_b[-1] = delta\n",
    "        grad_w[-1] = np.dot(delta, activations[-2].T)\n",
    "        \n",
    "        for l in range(2, self.layer_count):\n",
    "            sp = sigmoid_prime(z_array[-l])\n",
    "            delta = np.dot(self.weights[-l + 1].T, delta) * sp\n",
    "            grad_b[-l] = delta\n",
    "            grad_w[-l] = np.dot(delta, activations[-l - 1].T)\n",
    "        return (grad_b, grad_w)\n",
    "    \n",
    "    def feed(self, v):\n",
    "        for b, w in zip(self.biases, self.weights):\n",
    "            v = sigmoid(np.dot(w, v) + b)\n",
    "        return v\n",
    "\n",
    "    def evaluate(self, data_test_list):\n",
    "        results = [(np.argmax(self.feed(x)), y) for (x, y) in data_test_list]\n",
    "        return sum(int(x == y) for (x, y) in results)\n",
    "        \n",
    "\n",
    "epochs = 10\n",
    "batch_size = 5\n",
    "learning_rate = 3.0\n",
    "regularization = 1.0\n",
    "net = Network()\n",
    "net.SGD(data_train_list, data_test_list, epochs, batch_size, learning_rate, regularization)"
   ]
  }
 ],
 "metadata": {
  "kernelspec": {
   "display_name": "Python 3.10.8 64-bit",
   "language": "python",
   "name": "python3"
  },
  "language_info": {
   "codemirror_mode": {
    "name": "ipython",
    "version": 3
   },
   "file_extension": ".py",
   "mimetype": "text/x-python",
   "name": "python",
   "nbconvert_exporter": "python",
   "pygments_lexer": "ipython3",
   "version": "3.10.8"
  },
  "vscode": {
   "interpreter": {
    "hash": "e7370f93d1d0cde622a1f8e1c04877d8463912d04d973331ad4851f04de6915a"
   }
  }
 },
 "nbformat": 4,
 "nbformat_minor": 5
}
