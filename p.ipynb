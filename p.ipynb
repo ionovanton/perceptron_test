{
 "cells": [
  {
   "cell_type": "code",
   "execution_count": 87,
   "id": "89956ba4",
   "metadata": {},
   "outputs": [],
   "source": [
    "import numpy as np\n",
    "import pandas as pd\n",
    "import matplotlib.pyplot as plt\n",
    "from IPython.display import Image\n",
    "from scipy import special"
   ]
  },
  {
   "cell_type": "code",
   "execution_count": 114,
   "id": "f228e120",
   "metadata": {},
   "outputs": [],
   "source": [
    "data_test = np.array(pd.read_csv('./emnist_test.csv'), dtype='float64')\n",
    "data_train = np.array(pd.read_csv('./emnist_train.csv'), dtype='float64')"
   ]
  },
  {
   "cell_type": "code",
   "execution_count": 155,
   "id": "9b0ee56b",
   "metadata": {},
   "outputs": [],
   "source": [
    "def vectorized_answer(i):\n",
    "    v = np.zeros( (27, 1) )\n",
    "    v[i] = 1\n",
    "    return v\n",
    "\n",
    "data_train_list = [(np.reshape(x[1:] / 255.0, (784, 1)), vectorized_answer(int(x[0]))) for x in data_train]\n",
    "data_test_list = [(np.reshape(x[1:] / 255.0, (784, 1)), int(x[0]))for x in data_test]"
   ]
  },
  {
   "cell_type": "code",
   "execution_count": 156,
   "id": "d046fc2b",
   "metadata": {},
   "outputs": [
    {
     "name": "stdout",
     "output_type": "stream",
     "text": [
      "[0.] [0.] [0.] [0.] [0.] [0.] [0.] [0.] [0.] [0.] [0.] [0.] [0.] [0.] [0.] [0.] [0.] [0.] [0.] [0.] [0.] [0.] [0.] [0.] [0.] [0.] [0.] [0.] [0.] [0.] [0.] [0.] [0.] [0.] [0.] [0.] [0.] [0.] [0.] [0.] [0.] [0.] [0.] [0.] [0.] [0.] [0.] [0.] [0.] [0.] [0.] [0.] [0.] [0.] [0.] [0.] [0.] [0.] [0.] [0.] [0.] [0.] [0.] [0.] [0.] [0.] [0.] [0.] [0.] [0.] [0.] [0.] [0.] [0.] [0.] [0.] [0.] [0.] [0.] [0.] [0.] [0.] [0.] [0.] [0.] [0.] [0.] [0.] [0.] [0.] [0.] [0.] [0.] [0.] [0.] [0.] [0.] [0.] [0.] [0.] [0.] [0.] [0.] [0.] [0.] [0.] [6.1514802e-05] [0.00032295] [0.00030757] [1.53787005e-05] [0.] [0.] [0.] [0.] [0.] [0.] [0.] [0.] [0.] [0.] [0.] [0.] [0.] [0.] [0.] [0.] [0.] [0.] [0.] [0.] [0.] [0.] [1.53787005e-05] [0.0005075] [0.00176855] [0.00264514] [0.00235294] [0.00030757] [0.] [0.] [0.] [0.] [0.] [0.] [0.] [0.] [0.] [0.] [0.] [0.] [0.] [0.] [0.] [0.] [0.] [0.] [0.] [0.] [0.] [0.00012303] [0.00195309] [0.00339869] [0.00389081] [0.00390619] [0.00330642] [0.00056901] [0.] [0.] [0.] [0.] [0.] [0.] [0.] [0.] [0.] [0.] [0.] [0.] [0.] [0.] [0.] [0.] [0.] [0.] [0.] [1.53787005e-05] [0.00033833] [0.00146098] [0.0037524] [0.00390619] [0.00390619] [0.00379854] [0.00236832] [0.00030757] [0.] [0.] [0.] [0.] [0.] [0.] [0.] [0.] [0.] [0.] [0.] [0.] [0.] [0.] [0.] [0.] [0.] [0.] [1.53787005e-05] [0.00053825] [0.00244521] [0.00356786] [0.00390619] [0.00390619] [0.0037524] [0.00250673] [0.00033833] [1.53787005e-05] [0.] [0.] [0.] [0.] [0.] [0.] [0.] [0.] [0.] [0.] [0.] [0.] [0.] [0.] [0.] [0.] [0.] [0.] [0.00053825] [0.00250673] [0.00376778] [0.00390619] [0.00389081] [0.00339869] [0.00195309] [0.0005075] [0.] [0.] [0.] [0.] [0.] [0.] [0.] [0.] [0.] [0.] [0.] [0.] [0.] [0.] [0.] [0.] [0.] [0.] [1.53787005e-05] [0.00053825] [0.00336794] [0.00389081] [0.00390619] [0.00378316] [0.00195309] [0.0005075] [1.53787005e-05] [0.] [0.] [0.] [0.] [0.] [0.] [0.] [0.] [0.] [0.] [0.] [0.] [0.] [0.] [0.] [0.] [0.] [0.] [0.00010765] [0.0007228] [0.00252211] [0.00389081] [0.00390619] [0.00379854] [0.00252211] [0.00015379] [0.] [0.] [0.] [0.] [0.] [0.] [0.] [0.] [0.] [0.] [0.] [0.] [0.] [0.] [0.] [0.] [0.] [0.] [0.] [0.00015379] [0.00139946] [0.00318339] [0.00379854] [0.00390619] [0.00390619] [0.00338331] [0.00079969] [0.] [0.] [0.] [0.] [0.] [0.] [0.] [0.] [0.] [0.] [0.] [0.] [0.] [0.] [0.] [0.] [0.] [0.] [0.] [4.61361015e-05] [0.00189158] [0.00339869] [0.00389081] [0.00390619] [0.00390619] [0.00387543] [0.00264514] [0.00032295] [0.] [0.] [0.] [0.] [0.] [0.] [0.] [0.] [0.] [0.] [0.] [0.] [0.] [0.] [0.] [0.] [0.] [1.53787005e-05] [0.00030757] [0.00079969] [0.00355248] [0.00390619] [0.00390619] [0.00390619] [0.00390619] [0.00376778] [0.00176855] [6.1514802e-05] [0.] [0.] [0.] [0.] [0.] [0.] [0.] [0.] [0.] [0.] [0.] [0.] [0.] [0.] [0.] [1.53787005e-05] [0.00052288] [0.00147636] [0.00335256] [0.00384468] [0.00390619] [0.00378316] [0.00301423] [0.00364475] [0.00390619] [0.00333718] [0.00059977] [0.] [0.] [0.] [0.] [0.] [0.] [0.] [0.] [0.] [0.] [0.] [0.] [0.] [0.] [0.] [4.61361015e-05] [0.00055363] [0.0031065] [0.00359862] [0.00389081] [0.00390619] [0.0037524] [0.00250673] [0.00112265] [0.00335256] [0.00390619] [0.00330642] [0.00056901] [0.] [0.] [0.] [0.] [0.] [0.] [0.] [0.] [0.] [0.] [0.] [0.] [0.] [0.] [3.0757401e-05] [0.00099962] [0.00269127] [0.00389081] [0.00390619] [0.00390619] [0.00386005] [0.00201461] [0.00052288] [0.00059977] [0.00333718] [0.00387543] [0.00264514] [0.00032295] [0.] [0.] [0.] [0.] [3.0757401e-05] [6.1514802e-05] [0.] [0.] [0.] [0.] [0.] [0.] [0.] [0.] [7.68935025e-05] [0.00193772] [0.00381392] [0.00390619] [0.00390619] [0.00378316] [0.00316801] [0.00035371] [1.53787005e-05] [0.00056901] [0.00333718] [0.00384468] [0.00198385] [7.68935025e-05] [0.] [0.] [0.00012303] [0.00052288] [0.00126105] [0.00173779] [0.00049212] [0.] [0.] [0.] [0.] [0.] [0.] [4.61361015e-05] [0.00055363] [0.00272203] [0.00387543] [0.00389081] [0.00339869] [0.00196847] [0.00070742] [1.53787005e-05] [0.] [0.00056901] [0.00333718] [0.00384468] [0.00198385] [0.0002153] [0.00049212] [0.00078431] [0.00195309] [0.00313725] [0.00358324] [0.00370627] [0.00173779] [6.1514802e-05] [0.] [0.] [0.] [0.] [4.61361015e-05] [0.00189158] [0.00355248] [0.00389081] [0.00386005] [0.00250673] [0.00053825] [1.53787005e-05] [0.] [6.1514802e-05] [6.1514802e-05] [0.00063053] [0.00333718] [0.00390619] [0.00362937] [0.00341407] [0.00376778] [0.00384468] [0.00386005] [0.00384468] [0.00384468] [0.00352172] [0.00167628] [4.61361015e-05] [0.] [0.] [0.] [4.61361015e-05] [0.00103037] [0.00341407] [0.00390619] [0.00387543] [0.00293733] [0.00084583] [0.00058439] [0.00056901] [0.00078431] [0.00192234] [0.00195309] [0.00224529] [0.00362937] [0.00390619] [0.00390619] [0.00390619] [0.00387543] [0.00373702] [0.00272203] [0.00198385] [0.00195309] [0.00124567] [0.00030757] [0.] [0.] [0.] [0.] [0.00052288] [0.00269127] [0.00390619] [0.00390619] [0.00387543] [0.00296809] [0.00266052] [0.00330642] [0.00333718] [0.00341407] [0.0038293] [0.00384468] [0.00384468] [0.00390619] [0.00386005] [0.00358324] [0.0033218] [0.00264514] [0.00173779] [0.00052288] [7.68935025e-05] [6.1514802e-05] [3.0757401e-05] [0.] [0.] [0.] [0.] [4.61361015e-05] [0.00170704] [0.00373702] [0.00390619] [0.00392157] [0.00390619] [0.00387543] [0.00387543] [0.00390619] [0.00387543] [0.00384468] [0.0038293] [0.00358324] [0.00333718] [0.00333718] [0.00261438] [0.00129181] [0.00058439] [0.00032295] [6.1514802e-05] [0.] [0.] [0.] [0.] [0.] [0.] [0.] [0.] [0.] [0.0005075] [0.00242983] [0.00341407] [0.00369089] [0.00341407] [0.00333718] [0.00264514] [0.00195309] [0.00126105] [0.00059977] [0.00056901] [0.00032295] [7.68935025e-05] [6.1514802e-05] [3.0757401e-05] [0.] [0.] [0.] [0.] [0.] [0.] [0.] [0.] [0.] [0.] [0.] [0.] [0.] [1.53787005e-05] [0.00030757] [0.00076894] [0.00153787] [0.00076894] [0.00056901] [0.00032295] [7.68935025e-05] [3.0757401e-05] [0.] [0.] [0.] [0.] [0.] [0.] [0.] [0.] [0.] [0.] [0.] [0.] [0.] [0.] [0.] [0.] [0.] [0.] [0.] [0.] [0.] [0.] [4.61361015e-05] [0.] [0.] [0.] [0.] [0.] [0.] [0.] [0.] [0.] [0.] [0.] [0.] [0.] [0.] [0.] [0.] [0.] [0.] [0.] [0.] [0.] [0.] [0.] [0.] [0.] [0.] [0.] [0.] [0.] [0.] [0.] [0.] [0.] [0.] [0.] [0.] [0.] [0.] [0.] [0.] [0.] [0.] [0.] [0.] [0.] [0.] [0.] [0.] [0.] [0.] [0.] [0.] [0.] [0.] [0.] [0.] [0.] [0.] [0.] [0.] [0.] [0.] [0.] [0.] [0.] [0.] [0.] [0.] [0.] [0.] [0.] [0.] [0.] [0.] [0.] [0.] [0.] [0.] "
     ]
    }
   ],
   "source": [
    "for i in  data_test_list[0][0] / 255.0 :\n",
    "\tprint(i, end=' ')"
   ]
  },
  {
   "cell_type": "code",
   "execution_count": 157,
   "id": "b74fd8a8",
   "metadata": {},
   "outputs": [
    {
     "name": "stdout",
     "output_type": "stream",
     "text": [
      "A\n"
     ]
    },
    {
     "data": {
      "image/png": "[encoded data removed]",
      "text/plain": [
       "<Figure size 432x288 with 1 Axes>"
      ]
     },
     "metadata": {
      "needs_background": "light"
     },
     "output_type": "display_data"
    }
   ],
   "source": [
    "x, y = data_test_list[0]\n",
    "plt.imshow(np.reshape(x, (28, 28)).T)\n",
    "print(chr(y + 64))"
   ]
  },
  {
   "cell_type": "code",
   "execution_count": 158,
   "id": "f370724c",
   "metadata": {},
   "outputs": [
    {
     "data": {
      "text/plain": [
       "<matplotlib.image.AxesImage at 0x7f34a95ef220>"
      ]
     },
     "execution_count": 158,
     "metadata": {},
     "output_type": "execute_result"
    },
    {
     "data": {
      "image/png": "[encoded data removed]",
      "text/plain": [
       "<Figure size 432x288 with 1 Axes>"
      ]
     },
     "metadata": {
      "needs_background": "light"
     },
     "output_type": "display_data"
    }
   ],
   "source": [
    "sample = data_train_list[0]\n",
    "plt.imshow(np.reshape(sample[0], (28, 28)).T)"
   ]
  },
  {
   "cell_type": "code",
   "execution_count": 159,
   "id": "6fcb32d0",
   "metadata": {},
   "outputs": [],
   "source": [
    "# def sigmoid(x):\n",
    "#     return 1.0 / (1.0 + np.exp(-x))\n",
    "\n",
    "\"\"\"\n",
    "Аналог сигмоиды.\n",
    "\"\"\"\n",
    "def sigmoid(x):\n",
    "    return special.expit(x)\n",
    "\n",
    "def sigmoid_prime(x):\n",
    "    \"\"\"\n",
    "    Производная сигмоидной функции.\n",
    "    \"\"\"\n",
    "    a = sigmoid(x)\n",
    "    return a * (1 - a)"
   ]
  },
  {
   "cell_type": "code",
   "execution_count": 160,
   "id": "c33f90a9",
   "metadata": {},
   "outputs": [],
   "source": [
    "class QuadraticCost:\n",
    "    def fn(a, y):\n",
    "        return 0.5 * np.linalg.norm(a - y)**2\n",
    "    def delta(x, a, y):\n",
    "        return (a - y) * sigmoid_prime(x)"
   ]
  },
  {
   "cell_type": "code",
   "execution_count": 167,
   "id": "2cc3111b",
   "metadata": {},
   "outputs": [
    {
     "name": "stdout",
     "output_type": "stream",
     "text": [
      "epoch_0: 14799 / 10409 = 0.7033583350226367\n"
     ]
    },
    {
     "ename": "KeyboardInterrupt",
     "evalue": "",
     "output_type": "error",
     "traceback": [
      "\u001b[0;31m---------------------------------------------------------------------------\u001b[0m",
      "\u001b[0;31mKeyboardInterrupt\u001b[0m                         Traceback (most recent call last)",
      "\u001b[1;32m/home/anton/Desktop/perceptron_test/p.ipynb Cell 9\u001b[0m in \u001b[0;36m<cell line: 81>\u001b[0;34m()\u001b[0m\n\u001b[1;32m     <a href='vscode-notebook-cell:/home/anton/Desktop/perceptron_test/p.ipynb#X10sZmlsZQ%3D%3D?line=78'>79</a>\u001b[0m regularization \u001b[39m=\u001b[39m \u001b[39m3.0\u001b[39m\n\u001b[1;32m     <a href='vscode-notebook-cell:/home/anton/Desktop/perceptron_test/p.ipynb#X10sZmlsZQ%3D%3D?line=79'>80</a>\u001b[0m net \u001b[39m=\u001b[39m Network([\u001b[39m784\u001b[39m,\u001b[39m40\u001b[39m,\u001b[39m40\u001b[39m,\u001b[39m27\u001b[39m])\n\u001b[0;32m---> <a href='vscode-notebook-cell:/home/anton/Desktop/perceptron_test/p.ipynb#X10sZmlsZQ%3D%3D?line=80'>81</a>\u001b[0m net\u001b[39m.\u001b[39;49mSGD(data_train_list, data_test_list, epochs, batch_size, learning_rate, regularization)\n",
      "\u001b[1;32m/home/anton/Desktop/perceptron_test/p.ipynb Cell 9\u001b[0m in \u001b[0;36mNetwork.SGD\u001b[0;34m(self, data_train_list, data_test_list, epochs, n_batch, lr, reg)\u001b[0m\n\u001b[1;32m     <a href='vscode-notebook-cell:/home/anton/Desktop/perceptron_test/p.ipynb#X10sZmlsZQ%3D%3D?line=17'>18</a>\u001b[0m batch_list \u001b[39m=\u001b[39m [ data_train_list[k:k\u001b[39m+\u001b[39mn_batch] \u001b[39mfor\u001b[39;00m k \u001b[39min\u001b[39;00m r ]\n\u001b[1;32m     <a href='vscode-notebook-cell:/home/anton/Desktop/perceptron_test/p.ipynb#X10sZmlsZQ%3D%3D?line=18'>19</a>\u001b[0m \u001b[39mfor\u001b[39;00m batch \u001b[39min\u001b[39;00m batch_list:\n\u001b[0;32m---> <a href='vscode-notebook-cell:/home/anton/Desktop/perceptron_test/p.ipynb#X10sZmlsZQ%3D%3D?line=19'>20</a>\u001b[0m     \u001b[39mself\u001b[39;49m\u001b[39m.\u001b[39;49mupdate_batch(batch, lr, reg, n_train, n_batch)\n\u001b[1;32m     <a href='vscode-notebook-cell:/home/anton/Desktop/perceptron_test/p.ipynb#X10sZmlsZQ%3D%3D?line=20'>21</a>\u001b[0m \u001b[39meval\u001b[39m \u001b[39m=\u001b[39m \u001b[39mself\u001b[39m\u001b[39m.\u001b[39mevaluate(data_test_list)\n\u001b[1;32m     <a href='vscode-notebook-cell:/home/anton/Desktop/perceptron_test/p.ipynb#X10sZmlsZQ%3D%3D?line=21'>22</a>\u001b[0m \u001b[39mprint\u001b[39m(\u001b[39mf\u001b[39m\u001b[39m\"\u001b[39m\u001b[39mepoch_\u001b[39m\u001b[39m{\u001b[39;00me\u001b[39m}\u001b[39;00m\u001b[39m: \u001b[39m\u001b[39m{\u001b[39;00mn_test\u001b[39m}\u001b[39;00m\u001b[39m / \u001b[39m\u001b[39m{\u001b[39;00m\u001b[39meval\u001b[39m\u001b[39m}\u001b[39;00m\u001b[39m = \u001b[39m\u001b[39m{\u001b[39;00m\u001b[39meval\u001b[39m \u001b[39m/\u001b[39m n_test\u001b[39m}\u001b[39;00m\u001b[39m\"\u001b[39m)\n",
      "\u001b[1;32m/home/anton/Desktop/perceptron_test/p.ipynb Cell 9\u001b[0m in \u001b[0;36mNetwork.update_batch\u001b[0;34m(self, batch, lr, reg, n_train, n_batch)\u001b[0m\n\u001b[1;32m     <a href='vscode-notebook-cell:/home/anton/Desktop/perceptron_test/p.ipynb#X10sZmlsZQ%3D%3D?line=28'>29</a>\u001b[0m grad_w \u001b[39m=\u001b[39m [np\u001b[39m.\u001b[39mzeros(w\u001b[39m.\u001b[39mshape) \u001b[39mfor\u001b[39;00m w \u001b[39min\u001b[39;00m \u001b[39mself\u001b[39m\u001b[39m.\u001b[39mweights]\n\u001b[1;32m     <a href='vscode-notebook-cell:/home/anton/Desktop/perceptron_test/p.ipynb#X10sZmlsZQ%3D%3D?line=29'>30</a>\u001b[0m \u001b[39mfor\u001b[39;00m x, y \u001b[39min\u001b[39;00m batch:\n\u001b[0;32m---> <a href='vscode-notebook-cell:/home/anton/Desktop/perceptron_test/p.ipynb#X10sZmlsZQ%3D%3D?line=30'>31</a>\u001b[0m     delta_grad_b, delta_grad_w \u001b[39m=\u001b[39m \u001b[39mself\u001b[39;49m\u001b[39m.\u001b[39;49mforward_backward_propagation(x, y)\n\u001b[1;32m     <a href='vscode-notebook-cell:/home/anton/Desktop/perceptron_test/p.ipynb#X10sZmlsZQ%3D%3D?line=31'>32</a>\u001b[0m     grad_b \u001b[39m=\u001b[39m [b \u001b[39m+\u001b[39m dgb \u001b[39mfor\u001b[39;00m b, dgb \u001b[39min\u001b[39;00m \u001b[39mzip\u001b[39m(grad_b, delta_grad_b)]\n\u001b[1;32m     <a href='vscode-notebook-cell:/home/anton/Desktop/perceptron_test/p.ipynb#X10sZmlsZQ%3D%3D?line=32'>33</a>\u001b[0m     grad_w \u001b[39m=\u001b[39m [w \u001b[39m+\u001b[39m dgw \u001b[39mfor\u001b[39;00m w, dgw \u001b[39min\u001b[39;00m \u001b[39mzip\u001b[39m(grad_w, delta_grad_w)]\n",
      "\u001b[1;32m/home/anton/Desktop/perceptron_test/p.ipynb Cell 9\u001b[0m in \u001b[0;36mNetwork.forward_backward_propagation\u001b[0;34m(self, x, y)\u001b[0m\n\u001b[1;32m     <a href='vscode-notebook-cell:/home/anton/Desktop/perceptron_test/p.ipynb#X10sZmlsZQ%3D%3D?line=60'>61</a>\u001b[0m     delta \u001b[39m=\u001b[39m np\u001b[39m.\u001b[39mdot(\u001b[39mself\u001b[39m\u001b[39m.\u001b[39mweights[\u001b[39m-\u001b[39ml \u001b[39m+\u001b[39m \u001b[39m1\u001b[39m]\u001b[39m.\u001b[39mT, delta) \u001b[39m*\u001b[39m sp\n\u001b[1;32m     <a href='vscode-notebook-cell:/home/anton/Desktop/perceptron_test/p.ipynb#X10sZmlsZQ%3D%3D?line=61'>62</a>\u001b[0m     grad_b[\u001b[39m-\u001b[39ml] \u001b[39m=\u001b[39m delta\n\u001b[0;32m---> <a href='vscode-notebook-cell:/home/anton/Desktop/perceptron_test/p.ipynb#X10sZmlsZQ%3D%3D?line=62'>63</a>\u001b[0m     grad_w[\u001b[39m-\u001b[39ml] \u001b[39m=\u001b[39m np\u001b[39m.\u001b[39;49mdot(delta, activations[\u001b[39m-\u001b[39;49ml \u001b[39m-\u001b[39;49m \u001b[39m1\u001b[39;49m]\u001b[39m.\u001b[39;49mT)\n\u001b[1;32m     <a href='vscode-notebook-cell:/home/anton/Desktop/perceptron_test/p.ipynb#X10sZmlsZQ%3D%3D?line=63'>64</a>\u001b[0m \u001b[39mreturn\u001b[39;00m (grad_b, grad_w)\n",
      "File \u001b[0;32m<__array_function__ internals>:180\u001b[0m, in \u001b[0;36mdot\u001b[0;34m(*args, **kwargs)\u001b[0m\n",
      "\u001b[0;31mKeyboardInterrupt\u001b[0m: "
     ]
    }
   ],
   "source": [
    "class Network:\n",
    "    def __init__(self, layer_sizes):\n",
    "        self.layer_count = len(layer_sizes)\n",
    "        self.layer_sizes = layer_sizes\n",
    "        self.cost_function = QuadraticCost\n",
    "        self.biases = [np.random.randn(y, 1) for y in self.layer_sizes[1:]]\n",
    "        self.weights = [np.random.randn(y, x) / np.sqrt(x) for x, y in zip(self.layer_sizes[:-1], self.layer_sizes[1:])]\n",
    "    \n",
    "    def SGD(self, data_train_list, data_test_list, epochs, n_batch, lr, reg):\n",
    "        n_train = len(data_train_list)\n",
    "        n_test = len(data_test_list)\n",
    "        for e in range(epochs):\n",
    "            \"\"\"\n",
    "            В одной epoch можно использовать только 80% всех данных.\n",
    "            \"\"\"\n",
    "            np.random.shuffle(data_train_list)\n",
    "            r = range(0, int(n_train * 0.8), n_batch)\n",
    "            batch_list = [ data_train_list[k:k+n_batch] for k in r ]\n",
    "            for batch in batch_list:\n",
    "                self.update_batch(batch, lr, reg, n_train, n_batch)\n",
    "            eval = self.evaluate(data_test_list)\n",
    "            print(f\"epoch_{e}: {n_test} / {eval} = {eval / n_test}\")\n",
    "\n",
    "    def update_batch(self, batch, lr, reg, n_train, n_batch):\n",
    "        \"\"\"\n",
    "        Будем возвращать градиент функции затрат в виде 'grad_b' и 'grad_w'.\n",
    "        \"\"\"\n",
    "        grad_b = [np.zeros(b.shape) for b in self.biases]\n",
    "        grad_w = [np.zeros(w.shape) for w in self.weights]\n",
    "        for x, y in batch:\n",
    "            delta_grad_b, delta_grad_w = self.forward_backward_propagation(x, y)\n",
    "            grad_b = [b + dgb for b, dgb in zip(grad_b, delta_grad_b)]\n",
    "            grad_w = [w + dgw for w, dgw in zip(grad_w, delta_grad_w)]\n",
    "        self.weights = [(1 - lr * (reg / n_train)) * w - (lr / n_batch) * gw for w, gw in zip(self.weights, grad_w)]\n",
    "        self.biases = [b - (lr / n_batch) * gb for b, gb in zip(self.biases, grad_b)]\n",
    "\n",
    "    def forward_backward_propagation(self, x, y):\n",
    "        \"\"\"\n",
    "        Шагаем вперед.\n",
    "        \"\"\"\n",
    "        grad_b = [np.zeros(b.shape) for b in self.biases]\n",
    "        grad_w = [np.zeros(w.shape) for w in self.weights]\n",
    "        activation = x\n",
    "        activations = [x]\n",
    "        z_array = []\n",
    "        for b, w in zip(self.biases, self.weights):\n",
    "            z = np.dot(w, activation) + b\n",
    "            z_array.append(z)\n",
    "            activation = sigmoid(z)\n",
    "            activations.append(activation)\n",
    "\n",
    "        \"\"\"\n",
    "        Шагаем назад.\n",
    "        \"\"\"\n",
    "        delta = self.cost_function.delta(z_array[-1], activations[-1], y)\n",
    "        grad_b[-1] = delta\n",
    "        grad_w[-1] = np.dot(delta, activations[-2].T)\n",
    "        \n",
    "        for l in range(2, self.layer_count):\n",
    "            sp = sigmoid_prime(z_array[-l])\n",
    "            delta = np.dot(self.weights[-l + 1].T, delta) * sp\n",
    "            grad_b[-l] = delta\n",
    "            grad_w[-l] = np.dot(delta, activations[-l - 1].T)\n",
    "        return (grad_b, grad_w)\n",
    "    \n",
    "    def feed(self, v):\n",
    "        for b, w in zip(self.biases, self.weights):\n",
    "            v = sigmoid(np.dot(w, v) + b)\n",
    "        return v\n",
    "\n",
    "    def evaluate(self, data_test_list):\n",
    "        results = [(np.argmax(self.feed(x)), y) for (x, y) in data_test_list]\n",
    "        return sum(int(x == y) for (x, y) in results)\n",
    "        \n",
    "\n",
    "epochs = 10\n",
    "batch_size = 10\n",
    "learning_rate = 3.4\n",
    "regularization = 3.7\n",
    "net = Network([784,40,40,27])\n",
    "net.SGD(data_train_list, data_test_list, epochs, batch_size, learning_rate, regularization)"
   ]
  }
 ],
 "metadata": {
  "kernelspec": {
   "display_name": "Python 3.10.8 64-bit",
   "language": "python",
   "name": "python3"
  },
  "language_info": {
   "codemirror_mode": {
    "name": "ipython",
    "version": 3
   },
   "file_extension": ".py",
   "mimetype": "text/x-python",
   "name": "python",
   "nbconvert_exporter": "python",
   "pygments_lexer": "ipython3",
   "version": "3.10.8"
  },
  "vscode": {
   "interpreter": {
    "hash": "e7370f93d1d0cde622a1f8e1c04877d8463912d04d973331ad4851f04de6915a"
   }
  }
 },
 "nbformat": 4,
 "nbformat_minor": 5
}
