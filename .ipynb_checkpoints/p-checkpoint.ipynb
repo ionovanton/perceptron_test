{
 "cells": [
  {
   "cell_type": "code",
   "execution_count": 1,
   "id": "89956ba4",
   "metadata": {},
   "outputs": [],
   "source": [
    "import numpy as np\n",
    "import pandas as pd\n",
    "import matplotlib.pyplot as plt\n",
    "from IPython.display import Image"
   ]
  },
  {
   "cell_type": "code",
   "execution_count": 2,
   "id": "f228e120",
   "metadata": {},
   "outputs": [],
   "source": [
    "data_test = np.array(pd.read_csv('./emnist-letters-test.csv'))\n",
    "data_train = np.array(pd.read_csv('./emnist-letters-train.csv'))"
   ]
  },
  {
   "cell_type": "code",
   "execution_count": 3,
   "id": "9b0ee56b",
   "metadata": {},
   "outputs": [
    {
     "data": {
      "text/plain": [
       "(784, 1)"
      ]
     },
     "execution_count": 3,
     "metadata": {},
     "output_type": "execute_result"
    }
   ],
   "source": [
    "def vectorized_answer(i: int):\n",
    "    v = np.zeros( (26, 1) )\n",
    "    v[i - 1] = 1\n",
    "    return v\n",
    "\n",
    "def tidy_data(data):\n",
    "    data_tidy = [(np.reshape(x[1:], (784, 1)), vectorized_answer(x[0])) for x in data]\n",
    "    return data_tidy\n",
    "\n",
    "data_test_list = tidy_data(data_test)\n",
    "data_train_list = tidy_data(data_train)\n",
    "a, b = data_test_list[0]\n",
    "a.shape"
   ]
  },
  {
   "cell_type": "code",
   "execution_count": 4,
   "id": "f370724c",
   "metadata": {},
   "outputs": [
    {
     "data": {
      "text/plain": [
       "<matplotlib.image.AxesImage at 0x7ff1d4761b40>"
      ]
     },
     "execution_count": 4,
     "metadata": {},
     "output_type": "execute_result"
    },
    {
     "data": {
      "image/png": "[encoded data removed]",
      "text/plain": [
       "<Figure size 432x288 with 1 Axes>"
      ]
     },
     "metadata": {
      "needs_background": "light"
     },
     "output_type": "display_data"
    }
   ],
   "source": [
    "sample = data_train_list[0]\n",
    "plt.imshow(np.reshape(sample[0], (28, 28)).T)"
   ]
  },
  {
   "cell_type": "code",
   "execution_count": 5,
   "id": "6fcb32d0",
   "metadata": {},
   "outputs": [],
   "source": [
    "def sigmoid(x: np.double) -> np.double:\n",
    "    return 1.0 / (1.0 + np.exp(-x))\n",
    "\n",
    "def sigmoid_prime(x: np.double) -> np.double:\n",
    "    \"\"\"Производная сигмоидной функции.\"\"\"\n",
    "    a = sigmoid(x)\n",
    "    return a * (1 - a)"
   ]
  },
  {
   "cell_type": "code",
   "execution_count": 6,
   "id": "c33f90a9",
   "metadata": {},
   "outputs": [],
   "source": [
    "class QuadraticCost:\n",
    "    def fn(a, y):\n",
    "        return 0.5 * np.linalg.norm(a - y)**2\n",
    "    def delta(x, a, y):\n",
    "        return (a - y) * sigmoid_prime(x)"
   ]
  },
  {
   "cell_type": "code",
   "execution_count": 10,
   "id": "2cc3111b",
   "metadata": {},
   "outputs": [
    {
     "ename": "ValueError",
     "evalue": "operands could not be broadcast together with shapes (26,8) (26,) ",
     "output_type": "error",
     "traceback": [
      "\u001b[0;31m---------------------------------------------------------------------------\u001b[0m",
      "\u001b[0;31mValueError\u001b[0m                                Traceback (most recent call last)",
      "Input \u001b[0;32mIn [10]\u001b[0m, in \u001b[0;36m<cell line: 72>\u001b[0;34m()\u001b[0m\n\u001b[1;32m     69\u001b[0m         \u001b[38;5;28;01mreturn\u001b[39;00m (grad_b, grad_w)\n\u001b[1;32m     71\u001b[0m net \u001b[38;5;241m=\u001b[39m Network()\n\u001b[0;32m---> 72\u001b[0m \u001b[43mnet\u001b[49m\u001b[38;5;241;43m.\u001b[39;49m\u001b[43mSGD\u001b[49m\u001b[43m(\u001b[49m\u001b[43m)\u001b[49m\n",
      "Input \u001b[0;32mIn [10]\u001b[0m, in \u001b[0;36mNetwork.SGD\u001b[0;34m(self, data_train_list, data_test_list, epochs, n_batch, lr, reg)\u001b[0m\n\u001b[1;32m     23\u001b[0m batch_list \u001b[38;5;241m=\u001b[39m [ data_train_list[k:k\u001b[38;5;241m+\u001b[39mn_batch] \u001b[38;5;28;01mfor\u001b[39;00m k \u001b[38;5;129;01min\u001b[39;00m r ]\n\u001b[1;32m     24\u001b[0m \u001b[38;5;28;01mfor\u001b[39;00m batch \u001b[38;5;129;01min\u001b[39;00m batch_list:\n\u001b[0;32m---> 25\u001b[0m     \u001b[38;5;28;43mself\u001b[39;49m\u001b[38;5;241;43m.\u001b[39;49m\u001b[43mupdate_batch\u001b[49m\u001b[43m(\u001b[49m\u001b[43mbatch\u001b[49m\u001b[38;5;241;43m=\u001b[39;49m\u001b[43mbatch\u001b[49m\u001b[43m,\u001b[49m\n\u001b[1;32m     26\u001b[0m \u001b[43m                      \u001b[49m\u001b[43mlr\u001b[49m\u001b[38;5;241;43m=\u001b[39;49m\u001b[43mlr\u001b[49m\u001b[43m,\u001b[49m\u001b[43m \u001b[49m\u001b[38;5;66;43;03m# learning rate\u001b[39;49;00m\n\u001b[1;32m     27\u001b[0m \u001b[43m                      \u001b[49m\u001b[43mreg\u001b[49m\u001b[38;5;241;43m=\u001b[39;49m\u001b[43mreg\u001b[49m\u001b[43m,\u001b[49m\n\u001b[1;32m     28\u001b[0m \u001b[43m                      \u001b[49m\u001b[43mn_train\u001b[49m\u001b[38;5;241;43m=\u001b[39;49m\u001b[43mn_train\u001b[49m\u001b[43m,\u001b[49m\n\u001b[1;32m     29\u001b[0m \u001b[43m                      \u001b[49m\u001b[43mn_batch\u001b[49m\u001b[38;5;241;43m=\u001b[39;49m\u001b[43mn_batch\u001b[49m\u001b[43m)\u001b[49m\n",
      "Input \u001b[0;32mIn [10]\u001b[0m, in \u001b[0;36mNetwork.update_batch\u001b[0;34m(self, batch, lr, reg, n_train, n_batch)\u001b[0m\n\u001b[1;32m     37\u001b[0m     delta_grad_b, delta_grad_w \u001b[38;5;241m=\u001b[39m \u001b[38;5;28mself\u001b[39m\u001b[38;5;241m.\u001b[39mforward_backward_propagation(x, y)\n\u001b[1;32m     38\u001b[0m     grad_b \u001b[38;5;241m=\u001b[39m [b\u001b[38;5;241m+\u001b[39mdgb \u001b[38;5;28;01mfor\u001b[39;00m b, dgb \u001b[38;5;129;01min\u001b[39;00m \u001b[38;5;28mzip\u001b[39m(grad_b, delta_grad_b)]\n\u001b[0;32m---> 39\u001b[0m     grad_w \u001b[38;5;241m=\u001b[39m [w\u001b[38;5;241m+\u001b[39mdgw \u001b[38;5;28;01mfor\u001b[39;00m w, dgw \u001b[38;5;129;01min\u001b[39;00m \u001b[38;5;28mzip\u001b[39m(grad_w, delta_grad_w)]\n\u001b[1;32m     40\u001b[0m \u001b[38;5;28mself\u001b[39m\u001b[38;5;241m.\u001b[39mweights \u001b[38;5;241m=\u001b[39m [(\u001b[38;5;241m1\u001b[39m \u001b[38;5;241m-\u001b[39m lr \u001b[38;5;241m*\u001b[39m (reg \u001b[38;5;241m/\u001b[39m n)) \u001b[38;5;241m*\u001b[39m w \u001b[38;5;241m-\u001b[39m (eta \u001b[38;5;241m/\u001b[39m n_batch) \u001b[38;5;241m*\u001b[39m gw \u001b[38;5;28;01mfor\u001b[39;00m w, gw \u001b[38;5;129;01min\u001b[39;00m \u001b[38;5;28mzip\u001b[39m(\u001b[38;5;28mself\u001b[39m\u001b[38;5;241m.\u001b[39mweights, grad_w)]\n\u001b[1;32m     41\u001b[0m \u001b[38;5;28mself\u001b[39m\u001b[38;5;241m.\u001b[39mbiases \u001b[38;5;241m=\u001b[39m [b \u001b[38;5;241m-\u001b[39m (lr \u001b[38;5;241m/\u001b[39m n_batch) \u001b[38;5;241m*\u001b[39m gb \u001b[38;5;28;01mfor\u001b[39;00m b, gb \u001b[38;5;129;01min\u001b[39;00m \u001b[38;5;28mzip\u001b[39m(\u001b[38;5;28mself\u001b[39m\u001b[38;5;241m.\u001b[39mbiases, grad_b)]\n",
      "Input \u001b[0;32mIn [10]\u001b[0m, in \u001b[0;36m<listcomp>\u001b[0;34m(.0)\u001b[0m\n\u001b[1;32m     37\u001b[0m     delta_grad_b, delta_grad_w \u001b[38;5;241m=\u001b[39m \u001b[38;5;28mself\u001b[39m\u001b[38;5;241m.\u001b[39mforward_backward_propagation(x, y)\n\u001b[1;32m     38\u001b[0m     grad_b \u001b[38;5;241m=\u001b[39m [b\u001b[38;5;241m+\u001b[39mdgb \u001b[38;5;28;01mfor\u001b[39;00m b, dgb \u001b[38;5;129;01min\u001b[39;00m \u001b[38;5;28mzip\u001b[39m(grad_b, delta_grad_b)]\n\u001b[0;32m---> 39\u001b[0m     grad_w \u001b[38;5;241m=\u001b[39m [\u001b[43mw\u001b[49m\u001b[38;5;241;43m+\u001b[39;49m\u001b[43mdgw\u001b[49m \u001b[38;5;28;01mfor\u001b[39;00m w, dgw \u001b[38;5;129;01min\u001b[39;00m \u001b[38;5;28mzip\u001b[39m(grad_w, delta_grad_w)]\n\u001b[1;32m     40\u001b[0m \u001b[38;5;28mself\u001b[39m\u001b[38;5;241m.\u001b[39mweights \u001b[38;5;241m=\u001b[39m [(\u001b[38;5;241m1\u001b[39m \u001b[38;5;241m-\u001b[39m lr \u001b[38;5;241m*\u001b[39m (reg \u001b[38;5;241m/\u001b[39m n)) \u001b[38;5;241m*\u001b[39m w \u001b[38;5;241m-\u001b[39m (eta \u001b[38;5;241m/\u001b[39m n_batch) \u001b[38;5;241m*\u001b[39m gw \u001b[38;5;28;01mfor\u001b[39;00m w, gw \u001b[38;5;129;01min\u001b[39;00m \u001b[38;5;28mzip\u001b[39m(\u001b[38;5;28mself\u001b[39m\u001b[38;5;241m.\u001b[39mweights, grad_w)]\n\u001b[1;32m     41\u001b[0m \u001b[38;5;28mself\u001b[39m\u001b[38;5;241m.\u001b[39mbiases \u001b[38;5;241m=\u001b[39m [b \u001b[38;5;241m-\u001b[39m (lr \u001b[38;5;241m/\u001b[39m n_batch) \u001b[38;5;241m*\u001b[39m gb \u001b[38;5;28;01mfor\u001b[39;00m b, gb \u001b[38;5;129;01min\u001b[39;00m \u001b[38;5;28mzip\u001b[39m(\u001b[38;5;28mself\u001b[39m\u001b[38;5;241m.\u001b[39mbiases, grad_b)]\n",
      "\u001b[0;31mValueError\u001b[0m: operands could not be broadcast together with shapes (26,8) (26,) "
     ]
    }
   ],
   "source": [
    "class Network:\n",
    "    def __init__(self, layer_sizes=[784,8,8,26]):\n",
    "        self.layer_count = len(layer_sizes)\n",
    "        self.layer_sizes = layer_sizes\n",
    "        self.cost_function = QuadraticCost\n",
    "        self.biases = [np.random.randn(y, 1) for y in self.layer_sizes[1:]]\n",
    "        self.weights = [np.random.randn(y, x) / np.sqrt(x)\n",
    "                        for x, y in zip(self.layer_sizes[:-1], self.layer_sizes[1:])]\n",
    "    \n",
    "    def SGD(self,\n",
    "            data_train_list=data_train_list,\n",
    "            data_test_list=data_test_list,\n",
    "            epochs=1,\n",
    "            n_batch=10,\n",
    "            lr=3.0,\n",
    "            reg = 0.0):\n",
    "        n_train = len(data_train_list)\n",
    "        n_test = len(data_test_list)\n",
    "        for e in range(epochs):\n",
    "            \"\"\"\n",
    "            В одной epoch можно использовать только 80% всех данных.\n",
    "            \"\"\"\n",
    "            np.random.shuffle(data_train_list)\n",
    "            r = range(0, int(n_train * 0.8), n_batch)\n",
    "            batch_list = [ data_train_list[k:k+n_batch] for k in r ]\n",
    "            for batch in batch_list:\n",
    "                self.update_batch(batch=batch,\n",
    "                                  lr=lr, # learning rate\n",
    "                                  reg=reg,\n",
    "                                  n_train=n_train,\n",
    "                                  n_batch=n_batch)\n",
    "    def update_batch(self, batch, lr, reg, n_train, n_batch):\n",
    "        \"\"\"\n",
    "        Будем возвращать градиент функции затрат в виде 'grad_b' и 'grad_w'.\n",
    "        \"\"\"\n",
    "        grad_b = [np.zeros(b.shape) for b in self.biases]\n",
    "        grad_w = [np.zeros(w.shape) for w in self.weights]\n",
    "        for x, y in batch:\n",
    "            delta_grad_b, delta_grad_w = self.forward_backward_propagation(x, y)\n",
    "            grad_b = [b+dgb for b, dgb in zip(grad_b, delta_grad_b)]\n",
    "            grad_w = [w+dgw for w, dgw in zip(grad_w, delta_grad_w)]\n",
    "        self.weights = [(1 - lr * (reg / n)) * w - (eta / n_batch) * gw for w, gw in zip(self.weights, grad_w)]\n",
    "        self.biases = [b - (lr / n_batch) * gb for b, gb in zip(self.biases, grad_b)]\n",
    "\n",
    "    def forward_backward_propagation(self, x, y):\n",
    "        \"\"\"\n",
    "        Шагаем вперед.\n",
    "        \"\"\"\n",
    "        grad_b = [np.zeros(b.shape) for b in self.biases]\n",
    "        grad_w = [np.zeros(w.shape) for w in self.weights]\n",
    "        activation = x\n",
    "        activations = [x]\n",
    "        z_array = []\n",
    "        for b, w in zip(self.biases, self.weights):\n",
    "            z = np.dot(w, activation) + b\n",
    "            z_array.append(z)\n",
    "            activation = sigmoid(z)\n",
    "            activations.append(activation)\n",
    "        \"\"\"\n",
    "        Шагаем назад.\n",
    "        \"\"\"\n",
    "        delta = self.cost_function.delta(z_array[-1], activations[-1], y)\n",
    "        grad_b[-1] = delta\n",
    "        grad_w[-1] = np.dot(delta, activation[-1].T)\n",
    "        \n",
    "        for l in range(2, self.layer_count):\n",
    "            sp = sigmoid_prime(z_array[-l])\n",
    "            delta = np.dot(self.weights[-l + 1].T, delta) * sp\n",
    "            grad_b[-l] = delta\n",
    "            grad_w[-l] = np.dot(delta, activations[-l - 1].T)\n",
    "        return (grad_b, grad_w)\n",
    "\n",
    "net = Network()\n",
    "net.SGD()\n",
    "# print(len(batch_list), len(batch_list[0]), batch_list[0][0][1], n_train, r)"
   ]
  },
  {
   "cell_type": "code",
   "execution_count": null,
   "id": "3aa3722b",
   "metadata": {},
   "outputs": [],
   "source": [
    "print(\"Weight dimensions:\")\n",
    "for i, w in enumerate(net.weights):\n",
    "    print( f\"W{i}: {len(w[0])} x {len(w)}\" )\n",
    "\"\"\"\n",
    "Смещение (bias) отсутствует в сенсорном слое.\n",
    "\"\"\"\n",
    "print(\"Bias dimensions:\")\n",
    "for i, b in enumerate(net.biases):\n",
    "    print( f\"L{i + 1}: {len(b[0])} x {len(b)}\" )\n",
    "Image(filename='./media/img0.jpg')"
   ]
  }
 ],
 "metadata": {
  "kernelspec": {
   "display_name": "Python 3.10 (XPython)",
   "language": "python",
   "name": "xpython"
  },
  "language_info": {
   "file_extension": ".py",
   "mimetype": "text/x-python",
   "name": "python",
   "version": "3.10.8"
  }
 },
 "nbformat": 4,
 "nbformat_minor": 5
}
