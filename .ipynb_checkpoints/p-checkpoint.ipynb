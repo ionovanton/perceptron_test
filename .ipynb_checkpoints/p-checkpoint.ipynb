{
 "cells": [
  {
   "cell_type": "code",
   "execution_count": 4,
   "id": "89956ba4",
   "metadata": {},
   "outputs": [],
   "source": [
    "import numpy as np\n",
    "import pandas as pd\n",
    "import matplotlib.pyplot as plt\n",
    "from IPython.display import Image\n",
    "plt.style.use('dark_background')"
   ]
  },
  {
   "cell_type": "code",
   "execution_count": 5,
   "id": "9b0ee56b",
   "metadata": {},
   "outputs": [],
   "source": [
    "data_train = np.array(pd.read_csv('./emnist-letters-train.csv'))\n",
    "np.random.shuffle(data_train)"
   ]
  },
  {
   "cell_type": "code",
   "execution_count": 6,
   "id": "6fcb32d0",
   "metadata": {},
   "outputs": [],
   "source": [
    "def sigmoid(x: np.double) -> np.double:\n",
    "    return 1.0 / (1.0 + np.exp(-x))\n",
    "\n",
    "def sigmoid_prime(x: np.double) -> np.double:\n",
    "    \"\"\"Производная сигмоидной функции.\"\"\"\n",
    "    a = sigmoid(x)\n",
    "    return a * (1 - a)"
   ]
  },
  {
   "cell_type": "code",
   "execution_count": 7,
   "id": "c33f90a9",
   "metadata": {},
   "outputs": [],
   "source": [
    "class QuadraticCost:\n",
    "    def fn(a, y):\n",
    "        return 0.5 * np.linalg.norm(a - y)**2\n",
    "    def delta(x, a, y):\n",
    "        return (a - y) * sigmoid_prime(x)"
   ]
  },
  {
   "cell_type": "code",
   "execution_count": 8,
   "id": "2cc3111b",
   "metadata": {},
   "outputs": [
    {
     "ename": "IndentationError",
     "evalue": "expected an indented block after function definition on line 9 (918229979.py, line 11)",
     "output_type": "error",
     "traceback": [
      "\u001b[0;36m  Input \u001b[0;32mIn [8]\u001b[0;36m\u001b[0m\n\u001b[0;31m    net = Network()\u001b[0m\n\u001b[0m                   ^\u001b[0m\n\u001b[0;31mIndentationError\u001b[0m\u001b[0;31m:\u001b[0m expected an indented block after function definition on line 9\n"
     ]
    }
   ],
   "source": [
    "class Network:\n",
    "    def __init__(self, layer_sizes=[784,8,8,26]):\n",
    "        self.layer_count = len(layer_sizes)\n",
    "        self.layer_sizes = layer_sizes\n",
    "        self.cost_function = QuadraticCost\n",
    "        self.biases = [np.random.randn(y, 1) for y in self.layer_sizes[1:]]\n",
    "        self.weights = [np.random.randn(y, x) / np.sqrt(x)\n",
    "                        for x, y in zip(self.layer_sizes[:-1], self.layer_sizes[1:])]\n",
    "    def SGD(self, training_data, epochs, mini_batch_size, eta,\n",
    "        reg = 0.0, test_data=None):\n",
    "        pass\n",
    "net = Network()"
   ]
  },
  {
   "cell_type": "code",
   "execution_count": null,
   "id": "3aa3722b",
   "metadata": {},
   "outputs": [],
   "source": [
    "print(\"Weight dimensions:\")\n",
    "for i, w in enumerate(net.weights):\n",
    "    print( f\"W{i}: {len(w[0])} x {len(w)}\" )\n",
    "\"\"\"Смещение (bias) отсутствует в сенсорном слое.\"\"\"\n",
    "print(\"Bias dimensions:\")\n",
    "for i, b in enumerate(net.biases):\n",
    "    print( f\"L{i + 1}: {len(b[0])} x {len(b)}\" )\n",
    "Image(filename='./media/img0.jpg')"
   ]
  }
 ],
 "metadata": {
  "kernelspec": {
   "display_name": "Python 3 (ipykernel)",
   "language": "python",
   "name": "python3"
  },
  "language_info": {
   "codemirror_mode": {
    "name": "ipython",
    "version": 3
   },
   "file_extension": ".py",
   "mimetype": "text/x-python",
   "name": "python",
   "nbconvert_exporter": "python",
   "pygments_lexer": "ipython3",
   "version": "3.10.8"
  }
 },
 "nbformat": 4,
 "nbformat_minor": 5
}
